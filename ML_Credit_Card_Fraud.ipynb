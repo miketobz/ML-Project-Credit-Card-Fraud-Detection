{
 "cells": [
  {
   "cell_type": "code",
   "execution_count": 1,
   "metadata": {},
   "outputs": [],
   "source": [
    "# Importing required packages:\n",
    "import pandas as pd\n",
    "from collections import Counter\n",
    "from matplotlib import pyplot\n",
    "import numpy as np\n",
    "import matplotlib\n",
    "import seaborn as sns\n",
    "from sklearn.preprocessing import StandardScaler\n",
    "from sklearn.ensemble import RandomForestClassifier\n",
    "from sklearn.ensemble import IsolationForest\n",
    "from sklearn.neural_network import MLPClassifier\n",
    "from sklearn.metrics import confusion_matrix, classification_report, accuracy_score, matthews_corrcoef\n",
    "from sklearn.model_selection import train_test_split\n",
    "%matplotlib inline\n",
    "\n",
    "# Import dataset.\n",
    "# Assign to a data frame:\n",
    "df_card = pd.read_csv(\"creditcard.csv\")"
   ]
  },
  {
   "cell_type": "markdown",
   "metadata": {},
   "source": [
    "# Exploratory Data Analysis"
   ]
  },
  {
   "cell_type": "code",
   "execution_count": 2,
   "metadata": {},
   "outputs": [
    {
     "data": {
      "text/html": [
       "<div>\n",
       "<style scoped>\n",
       "    .dataframe tbody tr th:only-of-type {\n",
       "        vertical-align: middle;\n",
       "    }\n",
       "\n",
       "    .dataframe tbody tr th {\n",
       "        vertical-align: top;\n",
       "    }\n",
       "\n",
       "    .dataframe thead th {\n",
       "        text-align: right;\n",
       "    }\n",
       "</style>\n",
       "<table border=\"1\" class=\"dataframe\">\n",
       "  <thead>\n",
       "    <tr style=\"text-align: right;\">\n",
       "      <th></th>\n",
       "      <th>Time</th>\n",
       "      <th>V1</th>\n",
       "      <th>V2</th>\n",
       "      <th>V3</th>\n",
       "      <th>V4</th>\n",
       "      <th>V5</th>\n",
       "      <th>V6</th>\n",
       "      <th>V7</th>\n",
       "      <th>V8</th>\n",
       "      <th>V9</th>\n",
       "      <th>...</th>\n",
       "      <th>V21</th>\n",
       "      <th>V22</th>\n",
       "      <th>V23</th>\n",
       "      <th>V24</th>\n",
       "      <th>V25</th>\n",
       "      <th>V26</th>\n",
       "      <th>V27</th>\n",
       "      <th>V28</th>\n",
       "      <th>Amount</th>\n",
       "      <th>Class</th>\n",
       "    </tr>\n",
       "  </thead>\n",
       "  <tbody>\n",
       "    <tr>\n",
       "      <th>0</th>\n",
       "      <td>0.0</td>\n",
       "      <td>-1.359807</td>\n",
       "      <td>-0.072781</td>\n",
       "      <td>2.536347</td>\n",
       "      <td>1.378155</td>\n",
       "      <td>-0.338321</td>\n",
       "      <td>0.462388</td>\n",
       "      <td>0.239599</td>\n",
       "      <td>0.098698</td>\n",
       "      <td>0.363787</td>\n",
       "      <td>...</td>\n",
       "      <td>-0.018307</td>\n",
       "      <td>0.277838</td>\n",
       "      <td>-0.110474</td>\n",
       "      <td>0.066928</td>\n",
       "      <td>0.128539</td>\n",
       "      <td>-0.189115</td>\n",
       "      <td>0.133558</td>\n",
       "      <td>-0.021053</td>\n",
       "      <td>149.62</td>\n",
       "      <td>0</td>\n",
       "    </tr>\n",
       "    <tr>\n",
       "      <th>1</th>\n",
       "      <td>0.0</td>\n",
       "      <td>1.191857</td>\n",
       "      <td>0.266151</td>\n",
       "      <td>0.166480</td>\n",
       "      <td>0.448154</td>\n",
       "      <td>0.060018</td>\n",
       "      <td>-0.082361</td>\n",
       "      <td>-0.078803</td>\n",
       "      <td>0.085102</td>\n",
       "      <td>-0.255425</td>\n",
       "      <td>...</td>\n",
       "      <td>-0.225775</td>\n",
       "      <td>-0.638672</td>\n",
       "      <td>0.101288</td>\n",
       "      <td>-0.339846</td>\n",
       "      <td>0.167170</td>\n",
       "      <td>0.125895</td>\n",
       "      <td>-0.008983</td>\n",
       "      <td>0.014724</td>\n",
       "      <td>2.69</td>\n",
       "      <td>0</td>\n",
       "    </tr>\n",
       "    <tr>\n",
       "      <th>2</th>\n",
       "      <td>1.0</td>\n",
       "      <td>-1.358354</td>\n",
       "      <td>-1.340163</td>\n",
       "      <td>1.773209</td>\n",
       "      <td>0.379780</td>\n",
       "      <td>-0.503198</td>\n",
       "      <td>1.800499</td>\n",
       "      <td>0.791461</td>\n",
       "      <td>0.247676</td>\n",
       "      <td>-1.514654</td>\n",
       "      <td>...</td>\n",
       "      <td>0.247998</td>\n",
       "      <td>0.771679</td>\n",
       "      <td>0.909412</td>\n",
       "      <td>-0.689281</td>\n",
       "      <td>-0.327642</td>\n",
       "      <td>-0.139097</td>\n",
       "      <td>-0.055353</td>\n",
       "      <td>-0.059752</td>\n",
       "      <td>378.66</td>\n",
       "      <td>0</td>\n",
       "    </tr>\n",
       "    <tr>\n",
       "      <th>3</th>\n",
       "      <td>1.0</td>\n",
       "      <td>-0.966272</td>\n",
       "      <td>-0.185226</td>\n",
       "      <td>1.792993</td>\n",
       "      <td>-0.863291</td>\n",
       "      <td>-0.010309</td>\n",
       "      <td>1.247203</td>\n",
       "      <td>0.237609</td>\n",
       "      <td>0.377436</td>\n",
       "      <td>-1.387024</td>\n",
       "      <td>...</td>\n",
       "      <td>-0.108300</td>\n",
       "      <td>0.005274</td>\n",
       "      <td>-0.190321</td>\n",
       "      <td>-1.175575</td>\n",
       "      <td>0.647376</td>\n",
       "      <td>-0.221929</td>\n",
       "      <td>0.062723</td>\n",
       "      <td>0.061458</td>\n",
       "      <td>123.50</td>\n",
       "      <td>0</td>\n",
       "    </tr>\n",
       "    <tr>\n",
       "      <th>4</th>\n",
       "      <td>2.0</td>\n",
       "      <td>-1.158233</td>\n",
       "      <td>0.877737</td>\n",
       "      <td>1.548718</td>\n",
       "      <td>0.403034</td>\n",
       "      <td>-0.407193</td>\n",
       "      <td>0.095921</td>\n",
       "      <td>0.592941</td>\n",
       "      <td>-0.270533</td>\n",
       "      <td>0.817739</td>\n",
       "      <td>...</td>\n",
       "      <td>-0.009431</td>\n",
       "      <td>0.798278</td>\n",
       "      <td>-0.137458</td>\n",
       "      <td>0.141267</td>\n",
       "      <td>-0.206010</td>\n",
       "      <td>0.502292</td>\n",
       "      <td>0.219422</td>\n",
       "      <td>0.215153</td>\n",
       "      <td>69.99</td>\n",
       "      <td>0</td>\n",
       "    </tr>\n",
       "    <tr>\n",
       "      <th>5</th>\n",
       "      <td>2.0</td>\n",
       "      <td>-0.425966</td>\n",
       "      <td>0.960523</td>\n",
       "      <td>1.141109</td>\n",
       "      <td>-0.168252</td>\n",
       "      <td>0.420987</td>\n",
       "      <td>-0.029728</td>\n",
       "      <td>0.476201</td>\n",
       "      <td>0.260314</td>\n",
       "      <td>-0.568671</td>\n",
       "      <td>...</td>\n",
       "      <td>-0.208254</td>\n",
       "      <td>-0.559825</td>\n",
       "      <td>-0.026398</td>\n",
       "      <td>-0.371427</td>\n",
       "      <td>-0.232794</td>\n",
       "      <td>0.105915</td>\n",
       "      <td>0.253844</td>\n",
       "      <td>0.081080</td>\n",
       "      <td>3.67</td>\n",
       "      <td>0</td>\n",
       "    </tr>\n",
       "    <tr>\n",
       "      <th>6</th>\n",
       "      <td>4.0</td>\n",
       "      <td>1.229658</td>\n",
       "      <td>0.141004</td>\n",
       "      <td>0.045371</td>\n",
       "      <td>1.202613</td>\n",
       "      <td>0.191881</td>\n",
       "      <td>0.272708</td>\n",
       "      <td>-0.005159</td>\n",
       "      <td>0.081213</td>\n",
       "      <td>0.464960</td>\n",
       "      <td>...</td>\n",
       "      <td>-0.167716</td>\n",
       "      <td>-0.270710</td>\n",
       "      <td>-0.154104</td>\n",
       "      <td>-0.780055</td>\n",
       "      <td>0.750137</td>\n",
       "      <td>-0.257237</td>\n",
       "      <td>0.034507</td>\n",
       "      <td>0.005168</td>\n",
       "      <td>4.99</td>\n",
       "      <td>0</td>\n",
       "    </tr>\n",
       "    <tr>\n",
       "      <th>7</th>\n",
       "      <td>7.0</td>\n",
       "      <td>-0.644269</td>\n",
       "      <td>1.417964</td>\n",
       "      <td>1.074380</td>\n",
       "      <td>-0.492199</td>\n",
       "      <td>0.948934</td>\n",
       "      <td>0.428118</td>\n",
       "      <td>1.120631</td>\n",
       "      <td>-3.807864</td>\n",
       "      <td>0.615375</td>\n",
       "      <td>...</td>\n",
       "      <td>1.943465</td>\n",
       "      <td>-1.015455</td>\n",
       "      <td>0.057504</td>\n",
       "      <td>-0.649709</td>\n",
       "      <td>-0.415267</td>\n",
       "      <td>-0.051634</td>\n",
       "      <td>-1.206921</td>\n",
       "      <td>-1.085339</td>\n",
       "      <td>40.80</td>\n",
       "      <td>0</td>\n",
       "    </tr>\n",
       "    <tr>\n",
       "      <th>8</th>\n",
       "      <td>7.0</td>\n",
       "      <td>-0.894286</td>\n",
       "      <td>0.286157</td>\n",
       "      <td>-0.113192</td>\n",
       "      <td>-0.271526</td>\n",
       "      <td>2.669599</td>\n",
       "      <td>3.721818</td>\n",
       "      <td>0.370145</td>\n",
       "      <td>0.851084</td>\n",
       "      <td>-0.392048</td>\n",
       "      <td>...</td>\n",
       "      <td>-0.073425</td>\n",
       "      <td>-0.268092</td>\n",
       "      <td>-0.204233</td>\n",
       "      <td>1.011592</td>\n",
       "      <td>0.373205</td>\n",
       "      <td>-0.384157</td>\n",
       "      <td>0.011747</td>\n",
       "      <td>0.142404</td>\n",
       "      <td>93.20</td>\n",
       "      <td>0</td>\n",
       "    </tr>\n",
       "    <tr>\n",
       "      <th>9</th>\n",
       "      <td>9.0</td>\n",
       "      <td>-0.338262</td>\n",
       "      <td>1.119593</td>\n",
       "      <td>1.044367</td>\n",
       "      <td>-0.222187</td>\n",
       "      <td>0.499361</td>\n",
       "      <td>-0.246761</td>\n",
       "      <td>0.651583</td>\n",
       "      <td>0.069539</td>\n",
       "      <td>-0.736727</td>\n",
       "      <td>...</td>\n",
       "      <td>-0.246914</td>\n",
       "      <td>-0.633753</td>\n",
       "      <td>-0.120794</td>\n",
       "      <td>-0.385050</td>\n",
       "      <td>-0.069733</td>\n",
       "      <td>0.094199</td>\n",
       "      <td>0.246219</td>\n",
       "      <td>0.083076</td>\n",
       "      <td>3.68</td>\n",
       "      <td>0</td>\n",
       "    </tr>\n",
       "  </tbody>\n",
       "</table>\n",
       "<p>10 rows × 31 columns</p>\n",
       "</div>"
      ],
      "text/plain": [
       "   Time        V1        V2        V3        V4        V5        V6        V7  \\\n",
       "0   0.0 -1.359807 -0.072781  2.536347  1.378155 -0.338321  0.462388  0.239599   \n",
       "1   0.0  1.191857  0.266151  0.166480  0.448154  0.060018 -0.082361 -0.078803   \n",
       "2   1.0 -1.358354 -1.340163  1.773209  0.379780 -0.503198  1.800499  0.791461   \n",
       "3   1.0 -0.966272 -0.185226  1.792993 -0.863291 -0.010309  1.247203  0.237609   \n",
       "4   2.0 -1.158233  0.877737  1.548718  0.403034 -0.407193  0.095921  0.592941   \n",
       "5   2.0 -0.425966  0.960523  1.141109 -0.168252  0.420987 -0.029728  0.476201   \n",
       "6   4.0  1.229658  0.141004  0.045371  1.202613  0.191881  0.272708 -0.005159   \n",
       "7   7.0 -0.644269  1.417964  1.074380 -0.492199  0.948934  0.428118  1.120631   \n",
       "8   7.0 -0.894286  0.286157 -0.113192 -0.271526  2.669599  3.721818  0.370145   \n",
       "9   9.0 -0.338262  1.119593  1.044367 -0.222187  0.499361 -0.246761  0.651583   \n",
       "\n",
       "         V8        V9  ...       V21       V22       V23       V24       V25  \\\n",
       "0  0.098698  0.363787  ... -0.018307  0.277838 -0.110474  0.066928  0.128539   \n",
       "1  0.085102 -0.255425  ... -0.225775 -0.638672  0.101288 -0.339846  0.167170   \n",
       "2  0.247676 -1.514654  ...  0.247998  0.771679  0.909412 -0.689281 -0.327642   \n",
       "3  0.377436 -1.387024  ... -0.108300  0.005274 -0.190321 -1.175575  0.647376   \n",
       "4 -0.270533  0.817739  ... -0.009431  0.798278 -0.137458  0.141267 -0.206010   \n",
       "5  0.260314 -0.568671  ... -0.208254 -0.559825 -0.026398 -0.371427 -0.232794   \n",
       "6  0.081213  0.464960  ... -0.167716 -0.270710 -0.154104 -0.780055  0.750137   \n",
       "7 -3.807864  0.615375  ...  1.943465 -1.015455  0.057504 -0.649709 -0.415267   \n",
       "8  0.851084 -0.392048  ... -0.073425 -0.268092 -0.204233  1.011592  0.373205   \n",
       "9  0.069539 -0.736727  ... -0.246914 -0.633753 -0.120794 -0.385050 -0.069733   \n",
       "\n",
       "        V26       V27       V28  Amount  Class  \n",
       "0 -0.189115  0.133558 -0.021053  149.62      0  \n",
       "1  0.125895 -0.008983  0.014724    2.69      0  \n",
       "2 -0.139097 -0.055353 -0.059752  378.66      0  \n",
       "3 -0.221929  0.062723  0.061458  123.50      0  \n",
       "4  0.502292  0.219422  0.215153   69.99      0  \n",
       "5  0.105915  0.253844  0.081080    3.67      0  \n",
       "6 -0.257237  0.034507  0.005168    4.99      0  \n",
       "7 -0.051634 -1.206921 -1.085339   40.80      0  \n",
       "8 -0.384157  0.011747  0.142404   93.20      0  \n",
       "9  0.094199  0.246219  0.083076    3.68      0  \n",
       "\n",
       "[10 rows x 31 columns]"
      ]
     },
     "execution_count": 2,
     "metadata": {},
     "output_type": "execute_result"
    }
   ],
   "source": [
    "# Explore the data frmae; first 10 rows: \n",
    "df_card.head(10)"
   ]
  },
  {
   "cell_type": "code",
   "execution_count": 3,
   "metadata": {},
   "outputs": [
    {
     "data": {
      "text/html": [
       "<div>\n",
       "<style scoped>\n",
       "    .dataframe tbody tr th:only-of-type {\n",
       "        vertical-align: middle;\n",
       "    }\n",
       "\n",
       "    .dataframe tbody tr th {\n",
       "        vertical-align: top;\n",
       "    }\n",
       "\n",
       "    .dataframe thead th {\n",
       "        text-align: right;\n",
       "    }\n",
       "</style>\n",
       "<table border=\"1\" class=\"dataframe\">\n",
       "  <thead>\n",
       "    <tr style=\"text-align: right;\">\n",
       "      <th></th>\n",
       "      <th>Time</th>\n",
       "      <th>V1</th>\n",
       "      <th>V2</th>\n",
       "      <th>V3</th>\n",
       "      <th>V4</th>\n",
       "      <th>V5</th>\n",
       "      <th>V6</th>\n",
       "      <th>V7</th>\n",
       "      <th>V8</th>\n",
       "      <th>V9</th>\n",
       "      <th>...</th>\n",
       "      <th>V21</th>\n",
       "      <th>V22</th>\n",
       "      <th>V23</th>\n",
       "      <th>V24</th>\n",
       "      <th>V25</th>\n",
       "      <th>V26</th>\n",
       "      <th>V27</th>\n",
       "      <th>V28</th>\n",
       "      <th>Amount</th>\n",
       "      <th>Class</th>\n",
       "    </tr>\n",
       "  </thead>\n",
       "  <tbody>\n",
       "    <tr>\n",
       "      <th>284797</th>\n",
       "      <td>172782.0</td>\n",
       "      <td>-0.241923</td>\n",
       "      <td>0.712247</td>\n",
       "      <td>0.399806</td>\n",
       "      <td>-0.463406</td>\n",
       "      <td>0.244531</td>\n",
       "      <td>-1.343668</td>\n",
       "      <td>0.929369</td>\n",
       "      <td>-0.206210</td>\n",
       "      <td>0.106234</td>\n",
       "      <td>...</td>\n",
       "      <td>-0.228876</td>\n",
       "      <td>-0.514376</td>\n",
       "      <td>0.279598</td>\n",
       "      <td>0.371441</td>\n",
       "      <td>-0.559238</td>\n",
       "      <td>0.113144</td>\n",
       "      <td>0.131507</td>\n",
       "      <td>0.081265</td>\n",
       "      <td>5.49</td>\n",
       "      <td>0</td>\n",
       "    </tr>\n",
       "    <tr>\n",
       "      <th>284798</th>\n",
       "      <td>172782.0</td>\n",
       "      <td>0.219529</td>\n",
       "      <td>0.881246</td>\n",
       "      <td>-0.635891</td>\n",
       "      <td>0.960928</td>\n",
       "      <td>-0.152971</td>\n",
       "      <td>-1.014307</td>\n",
       "      <td>0.427126</td>\n",
       "      <td>0.121340</td>\n",
       "      <td>-0.285670</td>\n",
       "      <td>...</td>\n",
       "      <td>0.099936</td>\n",
       "      <td>0.337120</td>\n",
       "      <td>0.251791</td>\n",
       "      <td>0.057688</td>\n",
       "      <td>-1.508368</td>\n",
       "      <td>0.144023</td>\n",
       "      <td>0.181205</td>\n",
       "      <td>0.215243</td>\n",
       "      <td>24.05</td>\n",
       "      <td>0</td>\n",
       "    </tr>\n",
       "    <tr>\n",
       "      <th>284799</th>\n",
       "      <td>172783.0</td>\n",
       "      <td>-1.775135</td>\n",
       "      <td>-0.004235</td>\n",
       "      <td>1.189786</td>\n",
       "      <td>0.331096</td>\n",
       "      <td>1.196063</td>\n",
       "      <td>5.519980</td>\n",
       "      <td>-1.518185</td>\n",
       "      <td>2.080825</td>\n",
       "      <td>1.159498</td>\n",
       "      <td>...</td>\n",
       "      <td>0.103302</td>\n",
       "      <td>0.654850</td>\n",
       "      <td>-0.348929</td>\n",
       "      <td>0.745323</td>\n",
       "      <td>0.704545</td>\n",
       "      <td>-0.127579</td>\n",
       "      <td>0.454379</td>\n",
       "      <td>0.130308</td>\n",
       "      <td>79.99</td>\n",
       "      <td>0</td>\n",
       "    </tr>\n",
       "    <tr>\n",
       "      <th>284800</th>\n",
       "      <td>172784.0</td>\n",
       "      <td>2.039560</td>\n",
       "      <td>-0.175233</td>\n",
       "      <td>-1.196825</td>\n",
       "      <td>0.234580</td>\n",
       "      <td>-0.008713</td>\n",
       "      <td>-0.726571</td>\n",
       "      <td>0.017050</td>\n",
       "      <td>-0.118228</td>\n",
       "      <td>0.435402</td>\n",
       "      <td>...</td>\n",
       "      <td>-0.268048</td>\n",
       "      <td>-0.717211</td>\n",
       "      <td>0.297930</td>\n",
       "      <td>-0.359769</td>\n",
       "      <td>-0.315610</td>\n",
       "      <td>0.201114</td>\n",
       "      <td>-0.080826</td>\n",
       "      <td>-0.075071</td>\n",
       "      <td>2.68</td>\n",
       "      <td>0</td>\n",
       "    </tr>\n",
       "    <tr>\n",
       "      <th>284801</th>\n",
       "      <td>172785.0</td>\n",
       "      <td>0.120316</td>\n",
       "      <td>0.931005</td>\n",
       "      <td>-0.546012</td>\n",
       "      <td>-0.745097</td>\n",
       "      <td>1.130314</td>\n",
       "      <td>-0.235973</td>\n",
       "      <td>0.812722</td>\n",
       "      <td>0.115093</td>\n",
       "      <td>-0.204064</td>\n",
       "      <td>...</td>\n",
       "      <td>-0.314205</td>\n",
       "      <td>-0.808520</td>\n",
       "      <td>0.050343</td>\n",
       "      <td>0.102800</td>\n",
       "      <td>-0.435870</td>\n",
       "      <td>0.124079</td>\n",
       "      <td>0.217940</td>\n",
       "      <td>0.068803</td>\n",
       "      <td>2.69</td>\n",
       "      <td>0</td>\n",
       "    </tr>\n",
       "    <tr>\n",
       "      <th>284802</th>\n",
       "      <td>172786.0</td>\n",
       "      <td>-11.881118</td>\n",
       "      <td>10.071785</td>\n",
       "      <td>-9.834783</td>\n",
       "      <td>-2.066656</td>\n",
       "      <td>-5.364473</td>\n",
       "      <td>-2.606837</td>\n",
       "      <td>-4.918215</td>\n",
       "      <td>7.305334</td>\n",
       "      <td>1.914428</td>\n",
       "      <td>...</td>\n",
       "      <td>0.213454</td>\n",
       "      <td>0.111864</td>\n",
       "      <td>1.014480</td>\n",
       "      <td>-0.509348</td>\n",
       "      <td>1.436807</td>\n",
       "      <td>0.250034</td>\n",
       "      <td>0.943651</td>\n",
       "      <td>0.823731</td>\n",
       "      <td>0.77</td>\n",
       "      <td>0</td>\n",
       "    </tr>\n",
       "    <tr>\n",
       "      <th>284803</th>\n",
       "      <td>172787.0</td>\n",
       "      <td>-0.732789</td>\n",
       "      <td>-0.055080</td>\n",
       "      <td>2.035030</td>\n",
       "      <td>-0.738589</td>\n",
       "      <td>0.868229</td>\n",
       "      <td>1.058415</td>\n",
       "      <td>0.024330</td>\n",
       "      <td>0.294869</td>\n",
       "      <td>0.584800</td>\n",
       "      <td>...</td>\n",
       "      <td>0.214205</td>\n",
       "      <td>0.924384</td>\n",
       "      <td>0.012463</td>\n",
       "      <td>-1.016226</td>\n",
       "      <td>-0.606624</td>\n",
       "      <td>-0.395255</td>\n",
       "      <td>0.068472</td>\n",
       "      <td>-0.053527</td>\n",
       "      <td>24.79</td>\n",
       "      <td>0</td>\n",
       "    </tr>\n",
       "    <tr>\n",
       "      <th>284804</th>\n",
       "      <td>172788.0</td>\n",
       "      <td>1.919565</td>\n",
       "      <td>-0.301254</td>\n",
       "      <td>-3.249640</td>\n",
       "      <td>-0.557828</td>\n",
       "      <td>2.630515</td>\n",
       "      <td>3.031260</td>\n",
       "      <td>-0.296827</td>\n",
       "      <td>0.708417</td>\n",
       "      <td>0.432454</td>\n",
       "      <td>...</td>\n",
       "      <td>0.232045</td>\n",
       "      <td>0.578229</td>\n",
       "      <td>-0.037501</td>\n",
       "      <td>0.640134</td>\n",
       "      <td>0.265745</td>\n",
       "      <td>-0.087371</td>\n",
       "      <td>0.004455</td>\n",
       "      <td>-0.026561</td>\n",
       "      <td>67.88</td>\n",
       "      <td>0</td>\n",
       "    </tr>\n",
       "    <tr>\n",
       "      <th>284805</th>\n",
       "      <td>172788.0</td>\n",
       "      <td>-0.240440</td>\n",
       "      <td>0.530483</td>\n",
       "      <td>0.702510</td>\n",
       "      <td>0.689799</td>\n",
       "      <td>-0.377961</td>\n",
       "      <td>0.623708</td>\n",
       "      <td>-0.686180</td>\n",
       "      <td>0.679145</td>\n",
       "      <td>0.392087</td>\n",
       "      <td>...</td>\n",
       "      <td>0.265245</td>\n",
       "      <td>0.800049</td>\n",
       "      <td>-0.163298</td>\n",
       "      <td>0.123205</td>\n",
       "      <td>-0.569159</td>\n",
       "      <td>0.546668</td>\n",
       "      <td>0.108821</td>\n",
       "      <td>0.104533</td>\n",
       "      <td>10.00</td>\n",
       "      <td>0</td>\n",
       "    </tr>\n",
       "    <tr>\n",
       "      <th>284806</th>\n",
       "      <td>172792.0</td>\n",
       "      <td>-0.533413</td>\n",
       "      <td>-0.189733</td>\n",
       "      <td>0.703337</td>\n",
       "      <td>-0.506271</td>\n",
       "      <td>-0.012546</td>\n",
       "      <td>-0.649617</td>\n",
       "      <td>1.577006</td>\n",
       "      <td>-0.414650</td>\n",
       "      <td>0.486180</td>\n",
       "      <td>...</td>\n",
       "      <td>0.261057</td>\n",
       "      <td>0.643078</td>\n",
       "      <td>0.376777</td>\n",
       "      <td>0.008797</td>\n",
       "      <td>-0.473649</td>\n",
       "      <td>-0.818267</td>\n",
       "      <td>-0.002415</td>\n",
       "      <td>0.013649</td>\n",
       "      <td>217.00</td>\n",
       "      <td>0</td>\n",
       "    </tr>\n",
       "  </tbody>\n",
       "</table>\n",
       "<p>10 rows × 31 columns</p>\n",
       "</div>"
      ],
      "text/plain": [
       "            Time         V1         V2        V3        V4        V5  \\\n",
       "284797  172782.0  -0.241923   0.712247  0.399806 -0.463406  0.244531   \n",
       "284798  172782.0   0.219529   0.881246 -0.635891  0.960928 -0.152971   \n",
       "284799  172783.0  -1.775135  -0.004235  1.189786  0.331096  1.196063   \n",
       "284800  172784.0   2.039560  -0.175233 -1.196825  0.234580 -0.008713   \n",
       "284801  172785.0   0.120316   0.931005 -0.546012 -0.745097  1.130314   \n",
       "284802  172786.0 -11.881118  10.071785 -9.834783 -2.066656 -5.364473   \n",
       "284803  172787.0  -0.732789  -0.055080  2.035030 -0.738589  0.868229   \n",
       "284804  172788.0   1.919565  -0.301254 -3.249640 -0.557828  2.630515   \n",
       "284805  172788.0  -0.240440   0.530483  0.702510  0.689799 -0.377961   \n",
       "284806  172792.0  -0.533413  -0.189733  0.703337 -0.506271 -0.012546   \n",
       "\n",
       "              V6        V7        V8        V9  ...       V21       V22  \\\n",
       "284797 -1.343668  0.929369 -0.206210  0.106234  ... -0.228876 -0.514376   \n",
       "284798 -1.014307  0.427126  0.121340 -0.285670  ...  0.099936  0.337120   \n",
       "284799  5.519980 -1.518185  2.080825  1.159498  ...  0.103302  0.654850   \n",
       "284800 -0.726571  0.017050 -0.118228  0.435402  ... -0.268048 -0.717211   \n",
       "284801 -0.235973  0.812722  0.115093 -0.204064  ... -0.314205 -0.808520   \n",
       "284802 -2.606837 -4.918215  7.305334  1.914428  ...  0.213454  0.111864   \n",
       "284803  1.058415  0.024330  0.294869  0.584800  ...  0.214205  0.924384   \n",
       "284804  3.031260 -0.296827  0.708417  0.432454  ...  0.232045  0.578229   \n",
       "284805  0.623708 -0.686180  0.679145  0.392087  ...  0.265245  0.800049   \n",
       "284806 -0.649617  1.577006 -0.414650  0.486180  ...  0.261057  0.643078   \n",
       "\n",
       "             V23       V24       V25       V26       V27       V28  Amount  \\\n",
       "284797  0.279598  0.371441 -0.559238  0.113144  0.131507  0.081265    5.49   \n",
       "284798  0.251791  0.057688 -1.508368  0.144023  0.181205  0.215243   24.05   \n",
       "284799 -0.348929  0.745323  0.704545 -0.127579  0.454379  0.130308   79.99   \n",
       "284800  0.297930 -0.359769 -0.315610  0.201114 -0.080826 -0.075071    2.68   \n",
       "284801  0.050343  0.102800 -0.435870  0.124079  0.217940  0.068803    2.69   \n",
       "284802  1.014480 -0.509348  1.436807  0.250034  0.943651  0.823731    0.77   \n",
       "284803  0.012463 -1.016226 -0.606624 -0.395255  0.068472 -0.053527   24.79   \n",
       "284804 -0.037501  0.640134  0.265745 -0.087371  0.004455 -0.026561   67.88   \n",
       "284805 -0.163298  0.123205 -0.569159  0.546668  0.108821  0.104533   10.00   \n",
       "284806  0.376777  0.008797 -0.473649 -0.818267 -0.002415  0.013649  217.00   \n",
       "\n",
       "        Class  \n",
       "284797      0  \n",
       "284798      0  \n",
       "284799      0  \n",
       "284800      0  \n",
       "284801      0  \n",
       "284802      0  \n",
       "284803      0  \n",
       "284804      0  \n",
       "284805      0  \n",
       "284806      0  \n",
       "\n",
       "[10 rows x 31 columns]"
      ]
     },
     "execution_count": 3,
     "metadata": {},
     "output_type": "execute_result"
    }
   ],
   "source": [
    "# Print the last 10 rows:\n",
    "df_card.tail(10)"
   ]
  },
  {
   "cell_type": "code",
   "execution_count": 4,
   "metadata": {},
   "outputs": [
    {
     "data": {
      "text/plain": [
       "False"
      ]
     },
     "execution_count": 4,
     "metadata": {},
     "output_type": "execute_result"
    }
   ],
   "source": [
    "# Check if there are any NULL values in the data frame:\n",
    "df_card.isnull().values.any()"
   ]
  },
  {
   "cell_type": "code",
   "execution_count": 5,
   "metadata": {},
   "outputs": [
    {
     "data": {
      "text/plain": [
       "0    284315\n",
       "1       492\n",
       "Name: Class, dtype: int64"
      ]
     },
     "execution_count": 5,
     "metadata": {},
     "output_type": "execute_result"
    }
   ],
   "source": [
    "# Summarize the 'class' distribution:\n",
    "df_card[\"Class\"].value_counts()"
   ]
  },
  {
   "cell_type": "code",
   "execution_count": 13,
   "metadata": {},
   "outputs": [
    {
     "data": {
      "image/png": "[encoded data removed]",
      "text/plain": [
       "<Figure size 432x288 with 1 Axes>"
      ]
     },
     "metadata": {
      "needs_background": "light"
     },
     "output_type": "display_data"
    }
   ],
   "source": [
    "# Visualize the 'class' distribution using a bar chart:\n",
    "sns.countplot(x = df_card[\"Class\"])\n",
    "pyplot.show()"
   ]
  },
  {
   "cell_type": "code",
   "execution_count": 2,
   "metadata": {},
   "outputs": [
    {
     "data": {
      "text/plain": [
       "count     492.000000\n",
       "mean      122.211321\n",
       "std       256.683288\n",
       "min         0.000000\n",
       "25%         1.000000\n",
       "50%         9.250000\n",
       "75%       105.890000\n",
       "max      2125.870000\n",
       "Name: Amount, dtype: float64"
      ]
     },
     "execution_count": 2,
     "metadata": {},
     "output_type": "execute_result"
    }
   ],
   "source": [
    "# Analyze the fraudulent transactions:\n",
    "fraud_t = df_card[df_card[\"Class\"] == 1]\n",
    "fraud_t.Amount.describe()"
   ]
  },
  {
   "cell_type": "code",
   "execution_count": 3,
   "metadata": {},
   "outputs": [
    {
     "data": {
      "text/plain": [
       "count    284315.000000\n",
       "mean         88.291022\n",
       "std         250.105092\n",
       "min           0.000000\n",
       "25%           5.650000\n",
       "50%          22.000000\n",
       "75%          77.050000\n",
       "max       25691.160000\n",
       "Name: Amount, dtype: float64"
      ]
     },
     "execution_count": 3,
     "metadata": {},
     "output_type": "execute_result"
    }
   ],
   "source": [
    "# Analyze the normal transactions:\n",
    "normal_t = df_card[df_card[\"Class\"] == 0]\n",
    "normal_t.Amount.describe()\n"
   ]
  },
  {
   "cell_type": "code",
   "execution_count": 23,
   "metadata": {},
   "outputs": [
    {
     "data": {
      "image/png": "[encoded data removed]",
      "text/plain": [
       "<Figure size 432x288 with 2 Axes>"
      ]
     },
     "metadata": {
      "needs_background": "light"
     },
     "output_type": "display_data"
    }
   ],
   "source": [
    "# Visualize the 'fraudulent' and 'normal' transaction distribution.\n",
    "# Use a histogram:\n",
    "f, (ax1, ax2) = pyplot.subplots(2, 1, sharex = True)\n",
    "f.suptitle(\"Amount of Transactions by Class\")\n",
    "bins = 50\n",
    "ax1.hist(fraud_t.Amount, bins = bins)\n",
    "ax1.set_title(\"Fraudulent\")\n",
    "ax2.hist(normal_t.Amount, bins = bins)\n",
    "ax2.set_title(\"Normal\")\n",
    "pyplot.xlabel(\"Amount($)\")\n",
    "pyplot.ylabel(\"Number of transactions\")\n",
    "pyplot.xlim(0, 26000)\n",
    "pyplot.yscale(\"log\")\n",
    "pyplot.show()\n"
   ]
  },
  {
   "cell_type": "code",
   "execution_count": 18,
   "metadata": {},
   "outputs": [
    {
     "name": "stdout",
     "output_type": "stream",
     "text": [
      "<class 'pandas.core.frame.DataFrame'>\n",
      "RangeIndex: 284807 entries, 0 to 284806\n",
      "Data columns (total 31 columns):\n",
      " #   Column  Non-Null Count   Dtype  \n",
      "---  ------  --------------   -----  \n",
      " 0   Time    284807 non-null  float64\n",
      " 1   V1      284807 non-null  float64\n",
      " 2   V2      284807 non-null  float64\n",
      " 3   V3      284807 non-null  float64\n",
      " 4   V4      284807 non-null  float64\n",
      " 5   V5      284807 non-null  float64\n",
      " 6   V6      284807 non-null  float64\n",
      " 7   V7      284807 non-null  float64\n",
      " 8   V8      284807 non-null  float64\n",
      " 9   V9      284807 non-null  float64\n",
      " 10  V10     284807 non-null  float64\n",
      " 11  V11     284807 non-null  float64\n",
      " 12  V12     284807 non-null  float64\n",
      " 13  V13     284807 non-null  float64\n",
      " 14  V14     284807 non-null  float64\n",
      " 15  V15     284807 non-null  float64\n",
      " 16  V16     284807 non-null  float64\n",
      " 17  V17     284807 non-null  float64\n",
      " 18  V18     284807 non-null  float64\n",
      " 19  V19     284807 non-null  float64\n",
      " 20  V20     284807 non-null  float64\n",
      " 21  V21     284807 non-null  float64\n",
      " 22  V22     284807 non-null  float64\n",
      " 23  V23     284807 non-null  float64\n",
      " 24  V24     284807 non-null  float64\n",
      " 25  V25     284807 non-null  float64\n",
      " 26  V26     284807 non-null  float64\n",
      " 27  V27     284807 non-null  float64\n",
      " 28  V28     284807 non-null  float64\n",
      " 29  Amount  284807 non-null  float64\n",
      " 30  Class   284807 non-null  int64  \n",
      "dtypes: float64(30), int64(1)\n",
      "memory usage: 67.4 MB\n"
     ]
    }
   ],
   "source": [
    "# Overview of the data frame:\n",
    "df_card.info()"
   ]
  },
  {
   "cell_type": "code",
   "execution_count": 8,
   "metadata": {},
   "outputs": [
    {
     "data": {
      "image/png": "[encoded data removed]",
      "text/plain": [
       "<Figure size 432x288 with 30 Axes>"
      ]
     },
     "metadata": {
      "needs_background": "light"
     },
     "output_type": "display_data"
    }
   ],
   "source": [
    "# Distribution of all feature(input) variables.\n",
    "# Create a histogram of each:\n",
    "new_df = df_card.drop(columns=[\"Class\"])\n",
    "distr_hist = new_df.hist(bins=100)\n",
    "\n",
    "# Disable axis labels to avoid clutter:\n",
    "for axis in distr_hist.flatten():\n",
    "    axis.set_xticklabels([])\n",
    "    axis.set_yticklabels([])\n",
    "pyplot.show()"
   ]
  },
  {
   "cell_type": "code",
   "execution_count": 20,
   "metadata": {},
   "outputs": [
    {
     "name": "stdout",
     "output_type": "stream",
     "text": [
      "count    284807.000000\n",
      "mean         88.349619\n",
      "std         250.120109\n",
      "min           0.000000\n",
      "25%           5.600000\n",
      "50%          22.000000\n",
      "75%          77.165000\n",
      "max       25691.160000\n",
      "Name: Amount, dtype: float64\n"
     ]
    }
   ],
   "source": [
    "# Summarize the total number of transactions ('Amount' variable):\n",
    "print(df_card[\"Amount\"].describe())"
   ]
  },
  {
   "cell_type": "code",
   "execution_count": 9,
   "metadata": {},
   "outputs": [
    {
     "data": {
      "image/png": "[encoded data removed]",
      "text/plain": [
       "<Figure size 864x648 with 2 Axes>"
      ]
     },
     "metadata": {
      "needs_background": "light"
     },
     "output_type": "display_data"
    }
   ],
   "source": [
    "# Correlation matrix.\n",
    "# Shows the relationship of feature variables to each other:\n",
    "corrmatrix = df_card.corr()\n",
    "fig = pyplot.figure(figsize = (12, 9))\n",
    "\n",
    "sns.heatmap(corrmatrix, vmax = 1.0, square = True)\n",
    "pyplot.show()"
   ]
  },
  {
   "cell_type": "markdown",
   "metadata": {},
   "source": [
    "# Training & Test Splitting of Data"
   ]
  },
  {
   "cell_type": "code",
   "execution_count": 4,
   "metadata": {},
   "outputs": [],
   "source": [
    "# Use a sample from the main dataframe:\n",
    "df = df_card.sample(frac = 0.4, random_state = 1)"
   ]
  },
  {
   "cell_type": "code",
   "execution_count": 5,
   "metadata": {},
   "outputs": [],
   "source": [
    "# Separate dataset as features and response variables:\n",
    "input_ds = df.drop(columns=[\"Class\"])\n",
    "output_ds = df[\"Class\"]"
   ]
  },
  {
   "cell_type": "code",
   "execution_count": 28,
   "metadata": {},
   "outputs": [
    {
     "name": "stdout",
     "output_type": "stream",
     "text": [
      "(113923, 30) (113923,) Counter({0: 113737, 1: 186})\n"
     ]
    }
   ],
   "source": [
    "# Dataset summary:\n",
    "print(input_ds.shape, output_ds.shape, Counter(output_ds))"
   ]
  },
  {
   "cell_type": "code",
   "execution_count": 6,
   "metadata": {},
   "outputs": [],
   "source": [
    "# Training and test splitting of data:\n",
    "input_train, input_test, output_train, output_test = train_test_split(input_ds, output_ds, test_size = 0.2, random_state = 42)"
   ]
  },
  {
   "cell_type": "code",
   "execution_count": 7,
   "metadata": {},
   "outputs": [],
   "source": [
    "# Applying a standard scalar to the data, prior to modeling.\n",
    "# Provides optimized results:\n",
    "sc = StandardScaler()\n",
    "input_train = sc.fit_transform(input_train)\n",
    "input_test = sc.transform(input_test)"
   ]
  },
  {
   "cell_type": "code",
   "execution_count": 31,
   "metadata": {},
   "outputs": [
    {
     "name": "stdout",
     "output_type": "stream",
     "text": [
      "[[ 5.34243064e-01 -6.52178790e-01  8.49699395e-01 -2.34775852e-01\n",
      "   4.18304507e-01  7.71409938e-01 -1.03233172e-01  1.58294038e+00\n",
      "  -6.87163795e-01  1.58560731e-01  1.63895454e+00  5.61202751e-01\n",
      "   2.32859005e-01 -4.25734038e-01 -8.64449119e-02 -8.67609855e-01\n",
      "  -1.27454420e+00 -5.57552747e-01  1.26568367e-01  1.43097284e+00\n",
      "   1.55412752e-01 -5.61282210e-02  9.71353394e-01 -8.45690418e-01\n",
      "  -6.45265779e-01  4.40916190e-02 -9.90545283e-01 -7.51302450e-01\n",
      "   8.29674872e-02  2.50123267e-02]\n",
      " [ 1.21519191e+00 -7.06610721e-01  6.35284687e-01 -5.28993679e-01\n",
      "  -6.32826160e-01  2.31764656e-02  7.45116572e-02 -2.73879513e-01\n",
      "   3.63741286e-01  7.29989675e-01  2.07538771e-01  1.16942660e-01\n",
      "   1.34416213e+00  1.16124135e+00  1.89970857e-02 -4.83146325e-01\n",
      "   7.82873172e-01 -1.48716959e+00  1.19200471e+00 -2.40173780e-01\n",
      "  -8.41248488e-01  8.07238888e-01  2.19821573e+00  6.76557601e-01\n",
      "   5.26868581e-01 -3.83494709e+00 -1.57236923e+00 -2.64710065e+00\n",
      "   1.35715699e-01 -3.26135149e-01]\n",
      " [-6.26017495e-01  6.76874128e-01 -3.81550363e-01  4.92383780e-01\n",
      "  -1.18169274e-01 -9.16346693e-01 -3.26436907e-01 -6.78708148e-01\n",
      "  -4.23776170e-02 -4.70929462e-01  6.68424148e-01 -9.74137543e-01\n",
      "  -3.90388678e-01  2.85439635e-01 -1.48941413e-01  1.30656008e+00\n",
      "  -9.85050003e-01 -4.66585963e-01  1.96381881e+00 -1.30448306e+00\n",
      "  -5.95924876e-01 -2.55104224e-01 -9.35808877e-02 -1.11352492e-01\n",
      "   8.75219349e-02  5.81960671e-01  1.31635286e+00  1.40508193e-02\n",
      "   8.07932753e-02 -2.30077827e-01]\n",
      " [-1.10242493e+00  6.73661363e-01 -2.98422390e-03  1.00079314e-01\n",
      "  -1.66805781e-01 -4.18805411e-01 -9.82157705e-01  7.18336798e-02\n",
      "  -2.22808189e-01  1.74790573e-01 -1.48349861e-01 -2.60770121e-01\n",
      "  -9.11474583e-02 -4.61063196e-01  4.23184542e-01  1.18317571e+00\n",
      "   2.73632151e-01 -2.35704229e-01 -8.02194142e-01  2.54722080e-01\n",
      "  -1.12697557e-01 -2.64376942e-01 -8.19096714e-01  1.30709990e-01\n",
      "   7.57148598e-01  3.20419532e-01  2.61800483e+00 -3.21694492e-01\n",
      "  -1.21817316e-02 -3.30813803e-01]\n",
      " [-2.91730456e-01 -9.74338449e-02 -4.69462558e-01  1.04526614e+00\n",
      "  -1.55377885e+00 -9.63025577e-01 -7.98228023e-01  2.90370278e-01\n",
      "  -3.53558267e-01 -1.96638642e+00  8.97955925e-01 -3.96465530e-01\n",
      "  -1.37222417e+00 -1.19682478e-01 -5.87361491e-01  2.32693432e-03\n",
      "  -4.18243740e-01  3.37144690e-01  7.94842982e-03 -1.15047303e+00\n",
      "  -1.09525402e-01 -1.37365509e-01 -2.70070723e-02  3.40675926e-01\n",
      "   1.09580294e+00 -2.26984247e-01 -8.89685966e-01 -3.94466050e-01\n",
      "  -5.45874916e-01  1.42599737e-01]\n",
      " [-1.10316152e+00 -1.08498078e+00 -7.89618777e-01 -1.43751031e-01\n",
      "  -8.66613744e-01 -6.41331582e-01 -4.39652443e-01 -5.42081422e-01\n",
      "   6.16055168e-01 -2.95213439e+00  9.38873847e-01  3.83841839e-02\n",
      "  -1.06419421e+00 -4.50064749e-01  9.54278712e-01  1.93649681e-01\n",
      "  -3.47624635e-01  1.01659785e+00  9.09589050e-01  2.25346664e+00\n",
      "  -5.49437431e-01 -5.06312599e-01 -1.40332457e+00  9.37763173e-01\n",
      "  -9.40983018e-01  2.88097113e-02 -5.86859938e-01 -1.48895338e-02\n",
      "  -1.76295155e+00 -9.68811018e-02]\n",
      " [ 7.32281406e-01  1.06258145e+00 -9.32306983e-02 -1.43355856e+00\n",
      "   2.44131384e-01  5.70371596e-01 -3.59331985e-01  4.06703383e-01\n",
      "  -2.55207570e-01  4.08042331e-01  1.07131798e-01 -1.67288199e+00\n",
      "  -1.50474311e-01 -3.32713913e-01  4.56826436e-01 -3.37052399e-01\n",
      "  -3.34316716e-01 -4.70878037e-01 -5.41429520e-01  5.50710146e-01\n",
      "  -1.74278939e-01 -9.01784803e-02 -1.66110698e-01 -4.76318716e-02\n",
      "   2.55002179e-02  6.11546716e-01  8.02780738e-01 -2.55655968e-01\n",
      "  -2.12064781e-01 -1.64907903e-01]\n",
      " [ 1.19812399e+00 -1.62922134e+00 -1.30007157e-01 -6.42158951e-01\n",
      "  -7.17469655e-01  6.69215724e-01  1.12064757e+00  9.87131393e-02\n",
      "   9.56365539e-01  1.89182412e-01 -6.84680461e-01  2.63421199e-01\n",
      "   8.75871511e-01 -4.94216656e-01  7.27912945e-01 -3.78219425e-01\n",
      "  -7.17346274e-01  4.69269979e-01 -1.19969561e+00 -2.45165470e-01\n",
      "  -1.03432510e+00 -1.26466358e-01  4.79167421e-02  2.60859595e-01\n",
      "  -1.51981958e+00  1.66784492e-01 -7.74852474e-02 -1.41222236e+00\n",
      "   1.08980068e+00 -5.77129009e-02]\n",
      " [-5.95817174e-01 -3.81181426e-01  7.91989470e-01  6.86914363e-01\n",
      "   1.31696216e-01 -3.82438087e-01 -9.11982565e-01  3.24275668e-01\n",
      "   2.97067967e-01 -4.79819130e-01 -6.88333257e-01 -1.42906910e-01\n",
      "  -5.20271283e-02 -3.30525593e-01 -9.04863025e-03  9.65959042e-01\n",
      "   5.00182070e-01  3.74928308e-01 -1.74387817e-01 -2.68364188e-01\n",
      "   3.66496215e-03 -2.67403549e-01 -9.36278960e-01  2.04124054e-01\n",
      "   1.07270435e+00 -3.62263881e-01  1.08207873e-01  2.82148249e-01\n",
      "   1.22142706e-01 -2.76119095e-01]\n",
      " [-4.13099970e-01  6.37631189e-01  2.41164403e-01  2.01724105e-01\n",
      "   7.80733862e-01 -1.57899477e-01 -7.16604272e-01  2.22188717e-01\n",
      "  -2.25285090e-01 -9.97976084e-02 -6.36764734e-03 -2.86709841e-01\n",
      "   5.06353092e-01  5.87054797e-01  2.77070620e-01  9.36520077e-01\n",
      "   2.66004718e-02 -5.54083634e-01 -2.69820207e-01 -4.59370543e-01\n",
      "  -1.39764313e-01  4.82715398e-02  2.40794245e-01 -1.76639173e-01\n",
      "   6.90137615e-01  1.36364998e+00 -6.90822477e-01  4.11813406e-02\n",
      "   7.10966489e-02 -3.36858789e-01]]\n"
     ]
    }
   ],
   "source": [
    "# Print the first 10 rows of the 'input_train' 2D array:\n",
    "print(input_train[:10, :])"
   ]
  },
  {
   "cell_type": "markdown",
   "metadata": {},
   "source": [
    "# Evaluate Machine Learning Algorithms"
   ]
  },
  {
   "cell_type": "markdown",
   "metadata": {},
   "source": [
    "## 1) Random Forest Classifier"
   ]
  },
  {
   "cell_type": "code",
   "execution_count": 8,
   "metadata": {},
   "outputs": [],
   "source": [
    "# Create the first model.\n",
    "# It comprises of 200 trees.\n",
    "# Train it.\n",
    "rfc = RandomForestClassifier(n_estimators = 200)\n",
    "rfc.fit(input_train, output_train)\n",
    "predictions_rfc = rfc.predict(input_test)"
   ]
  },
  {
   "cell_type": "code",
   "execution_count": 33,
   "metadata": {},
   "outputs": [
    {
     "name": "stdout",
     "output_type": "stream",
     "text": [
      "[[-6.66782667e-01 -7.60866727e-01  3.20373071e-01  7.27193217e-01\n",
      "  -1.22060676e-01  1.16889755e-01 -4.17062522e-01  4.02889384e-01\n",
      "   2.61721833e-01 -2.37345060e-01 -9.53068810e-01 -1.35424328e+00\n",
      "   4.77010223e-01  5.94647777e-01 -8.24533069e-02 -9.12258155e-01\n",
      "   1.26187598e-01 -3.12762704e-01 -5.62344561e-01 -5.57054890e-02\n",
      "  -2.83667236e-01 -1.79473157e-01 -4.96065171e-01  1.82621460e-01\n",
      "  -1.30956683e-01  4.76518313e-01  3.16274741e-01 -3.94757338e-01\n",
      "  -4.18491629e-02 -1.58490280e-01]\n",
      " [ 6.56875309e-01  1.06951872e+00  2.49152575e-02 -1.17569196e+00\n",
      "   2.89722388e-01  2.23858776e-01 -6.66867948e-01  7.18041254e-02\n",
      "  -1.22630413e-01  6.66522383e-01 -3.12542989e-01 -8.60782073e-01\n",
      "  -6.87747822e-01 -1.47482131e+00 -5.72433099e-01  4.16929213e-01\n",
      "   4.66139851e-01  6.39484402e-01 -1.22141864e-01  1.04389148e-01\n",
      "  -3.45583914e-01 -5.30124569e-01 -1.49032799e+00  5.73527267e-01\n",
      "   7.32279162e-01 -5.83129860e-01  3.67569158e-01 -1.87806870e-01\n",
      "  -1.05436489e-01 -3.57643606e-01]\n",
      " [ 1.57656453e+00 -3.80947413e-01  2.40156822e-01 -5.27170782e-02\n",
      "  -1.21941758e+00  1.57507092e+00  3.09299882e+00 -4.12897782e-01\n",
      "   1.11009992e+00  2.25467561e-01 -6.51821387e-01 -4.92587911e-01\n",
      "  -5.08963578e-03 -1.76076436e-01 -6.93975844e-02  4.01316167e-01\n",
      "   2.67314234e-01 -6.92093933e-01  6.08325266e-02 -5.61374679e-01\n",
      "  -1.16580183e-01  3.41928488e-01  1.00518283e+00 -2.89676455e-01\n",
      "   1.26291175e+00 -7.21047594e-01  1.06383654e+00 -7.05660280e-01\n",
      "  -4.28791595e-01 -3.14127983e-01]\n",
      " [-1.27184136e+00  7.46898062e-01 -5.96901013e-01 -9.37038316e-02\n",
      "  -1.00888294e+00 -7.68052716e-01 -7.13116246e-01 -3.74030356e-01\n",
      "  -2.95428284e-01 -1.96577932e+00  1.30215664e+00 -7.43043409e-01\n",
      "  -7.90458550e-01  8.33339613e-01 -1.84335295e-01  4.06444191e-01\n",
      "  -4.95085322e-01  4.99236563e-01 -5.28125139e-01  2.47544994e-01\n",
      "  -2.38877191e-01 -7.63670831e-01 -1.92875440e+00  1.44731345e-01\n",
      "  -2.90480132e-01  5.61336084e-01 -1.05178435e+00 -4.69321530e-03\n",
      "   8.29387502e-02 -4.70720683e-02]\n",
      " [ 9.91225484e-01  1.01058986e+00  1.82560003e-01 -1.56985576e+00\n",
      "   8.02136530e-01  1.06107516e+00 -1.04791536e-01  7.26453583e-01\n",
      "  -1.76273610e-01 -2.83473773e-01  2.32327142e-01 -1.56115088e-01\n",
      "   4.48241929e-01 -2.60160798e-01  1.02558697e+00  5.08089839e-01\n",
      "  -2.08238558e+00  8.10746292e-01 -2.32303462e+00 -1.78311625e+00\n",
      "  -5.57163066e-01  5.38504368e-01  2.01640927e+00 -2.07734906e-01\n",
      "  -1.50451920e+00  1.24753734e+00 -2.16234286e-01 -1.47995768e-03\n",
      "  -2.79115064e-01 -3.57602202e-01]\n",
      " [ 1.11253186e+00  8.93733338e-01 -6.68334672e-01 -2.64753420e-01\n",
      "   3.96077614e-01 -7.04275377e-01  2.40569420e-02 -5.60324326e-01\n",
      "   1.98102101e-02 -4.95234826e-01  1.00809391e+00  4.23501604e-01\n",
      "   8.87340419e-01  8.74096152e-01  1.23370781e-02 -9.68381845e-02\n",
      "  -7.95164706e-01 -1.09446363e+00  2.27268737e+00 -1.20728386e+00\n",
      "  -3.83844647e-01 -4.76816512e-01 -1.12081395e+00  4.03505255e-01\n",
      "  -7.14367254e-01 -1.02527915e+00 -1.95540725e+00  1.28162870e-01\n",
      "  -7.89057906e-03  3.21423690e-01]\n",
      " [ 7.53579473e-01  7.89217317e-01  2.28193826e-03 -3.05684854e-01\n",
      "   2.71818553e+00 -2.81701838e-02 -2.17468852e-01  3.19179052e-01\n",
      "  -1.18343782e-01 -9.18664610e-01  1.27562618e+00 -9.27738184e-01\n",
      "  -2.61075622e-01 -5.41763600e-02  4.16330951e-01 -5.34246378e-02\n",
      "   1.52795356e+00 -1.20129779e+00 -8.24511302e-01 -1.90980803e+00\n",
      "   1.35623173e-01 -4.43756975e-01 -2.08135891e+00  6.49181469e-01\n",
      "  -1.40050243e-01 -1.40957347e+00 -1.36686569e+00 -1.59860542e-01\n",
      "   1.48676790e-02  4.62197351e-01]\n",
      " [ 6.11837896e-01  1.02471692e+00 -1.31977432e-01 -1.41096796e+00\n",
      "   1.28425174e-01  3.30247754e-01 -8.33770649e-01  5.27180416e-01\n",
      "  -3.18404265e-01  2.34815154e-02  2.91427141e-01  4.75705046e-01\n",
      "   5.15698750e-01 -7.70850993e-01  9.25191771e-01 -1.01452231e+00\n",
      "  -3.64991096e-01 -4.86058514e-01 -1.47898724e-01  6.86149633e-01\n",
      "  -1.91726930e-01  2.09575423e-01  6.31953389e-01 -1.98274670e-01\n",
      "  -4.25084331e-01  6.24579061e-01  1.70088280e+00 -3.61017928e-01\n",
      "  -2.84095288e-01 -1.15512910e-01]\n",
      " [ 8.12380655e-01 -2.38895407e-01  3.05062951e-01 -3.11808535e-01\n",
      "  -2.56570547e-01  8.90037120e-01 -7.13855446e-01  8.19692030e-01\n",
      "  -2.18602038e-01  1.59935501e-01 -3.06033076e-01  5.24059078e-01\n",
      "  -8.52692476e-01 -1.93407461e+00 -6.40263310e-01  3.24698302e-01\n",
      "   3.98119292e-01  1.20349098e-01  1.94022785e+00  4.43009501e-01\n",
      "   9.77247738e-02  3.49994185e-01  1.30788131e+00 -4.14901301e-01\n",
      "  -1.00727404e+00 -8.91661634e-01 -3.53043837e-01  3.71302325e-01\n",
      "   4.18117331e-01 -1.73644151e-01]\n",
      " [ 6.06597562e-01  1.06499984e+00 -4.77003434e-01 -1.09351319e+00\n",
      "  -3.79836937e-01 -1.65131458e-01 -5.40231315e-01 -4.56571887e-02\n",
      "  -2.34997235e-01 -7.93431835e-01  9.70407957e-01  2.56561181e-01\n",
      "   5.70478788e-01  2.18074707e-01  4.43899590e-01 -9.94048931e-01\n",
      "  -1.69450063e+00 -4.25877986e-01  1.37906298e+00 -1.63901926e-01\n",
      "  -6.55420029e-01 -6.08543628e-01 -1.13331756e+00  2.48556690e-01\n",
      "  -8.15423932e-01 -2.96658792e-01  1.07968688e+00 -2.23925731e-01\n",
      "  -2.20560905e-01 -9.32375482e-02]]\n"
     ]
    }
   ],
   "source": [
    "# Print the first 10 rows of the 'input_test' 2D array:\n",
    "print(input_test[:10, :])"
   ]
  },
  {
   "cell_type": "code",
   "execution_count": 34,
   "metadata": {},
   "outputs": [
    {
     "name": "stdout",
     "output_type": "stream",
     "text": [
      "[0 0 0 0 0 0 0 0 0 0]\n"
     ]
    }
   ],
   "source": [
    "# Print the first 10 elements of the 'predictions' 1D array:\n",
    "print(predictions_rfc[0:10])"
   ]
  },
  {
   "cell_type": "code",
   "execution_count": 35,
   "metadata": {},
   "outputs": [
    {
     "name": "stdout",
     "output_type": "stream",
     "text": [
      "The model's performance summary is:\n",
      "\n",
      "              precision    recall  f1-score   support\n",
      "\n",
      "           0       1.00      1.00      1.00     22751\n",
      "           1       0.92      0.71      0.80        34\n",
      "\n",
      "    accuracy                           1.00     22785\n",
      "   macro avg       0.96      0.85      0.90     22785\n",
      "weighted avg       1.00      1.00      1.00     22785\n",
      "\n",
      "\n",
      "The total number of errors is:  12\n"
     ]
    }
   ],
   "source": [
    "# Evaluating the model's performance:\n",
    "n_errors = (predictions_rfc != output_test).sum()\n",
    "\n",
    "print(\"The model's performance summary is:\\n\")\n",
    "print(classification_report(output_test, predictions_rfc))\n",
    "print(\"\\nThe total number of errors is: \", n_errors)"
   ]
  },
  {
   "cell_type": "code",
   "execution_count": 36,
   "metadata": {},
   "outputs": [
    {
     "name": "stdout",
     "output_type": "stream",
     "text": [
      "The accuracy score is:  0.999\n"
     ]
    }
   ],
   "source": [
    "# Calculate the model's accuracy score:\n",
    "acc_score = accuracy_score(output_test, predictions_rfc)\n",
    "print(\"The accuracy score is: \", round(acc_score, 3))"
   ]
  },
  {
   "cell_type": "code",
   "execution_count": 37,
   "metadata": {},
   "outputs": [
    {
     "name": "stdout",
     "output_type": "stream",
     "text": [
      "The Matthews correlation coefficient is:  0.807\n"
     ]
    }
   ],
   "source": [
    "# Calculate the Matthews correlation coefficient:\n",
    "mcc = matthews_corrcoef(output_test, predictions_rfc)\n",
    "print(\"The Matthews correlation coefficient is: \", round(mcc, 3))"
   ]
  },
  {
   "cell_type": "code",
   "execution_count": 38,
   "metadata": {},
   "outputs": [
    {
     "name": "stdout",
     "output_type": "stream",
     "text": [
      "[[22749     2]\n",
      " [   10    24]]\n"
     ]
    }
   ],
   "source": [
    "# Calculate the confusion matrix:\n",
    "print(confusion_matrix(output_test, predictions_rfc))"
   ]
  },
  {
   "cell_type": "code",
   "execution_count": 39,
   "metadata": {},
   "outputs": [
    {
     "data": {
      "image/png": "[encoded data removed]",
      "text/plain": [
       "<Figure size 864x864 with 2 Axes>"
      ]
     },
     "metadata": {
      "needs_background": "light"
     },
     "output_type": "display_data"
    }
   ],
   "source": [
    "# Visualize the confusion matrix.\n",
    "# Use a seaborn heatmap:\n",
    "labels = [\"Normal\", \"Fraudulent\"]\n",
    "conf_matrix = confusion_matrix(output_test, predictions_rfc)\n",
    "pyplot.figure(figsize = (12, 12))\n",
    "\n",
    "sns.heatmap(conf_matrix, xticklabels = labels, yticklabels = labels, annot = True, fmt = \"d\")\n",
    "pyplot.title(\"Confusion Matrix\")\n",
    "pyplot.xlabel(\"Predicted Class\")\n",
    "pyplot.ylabel(\"Actual Class\")\n",
    "pyplot.show()\n"
   ]
  },
  {
   "cell_type": "markdown",
   "metadata": {},
   "source": [
    "### Credit Card Fraud Predictions"
   ]
  },
  {
   "cell_type": "markdown",
   "metadata": {},
   "source": [
    "#### Case 1:"
   ]
  },
  {
   "cell_type": "code",
   "execution_count": 12,
   "metadata": {},
   "outputs": [
    {
     "name": "stdout",
     "output_type": "stream",
     "text": [
      "The transaction's class is:  [1]\n",
      "Warning!!! The credit card transaction is fraudulent.\n"
     ]
    },
    {
     "name": "stderr",
     "output_type": "stream",
     "text": [
      "C:\\Users\\Miketobbz\\AppData\\Roaming\\Python\\Python310\\site-packages\\sklearn\\base.py:450: UserWarning: X does not have valid feature names, but StandardScaler was fitted with feature names\n",
      "  warnings.warn(\n"
     ]
    }
   ],
   "source": [
    "# Predict the 'class' of a transaction with the following attributes:\n",
    "new_input_test = [[428, -2.31445, 1.75223, -1.7199, 3.9928, -0.42319,\n",
    "                   -1.56255, -2.5281, 1.42771, -2.87112, -2.8127, 3.27033, \n",
    "                   -2.79812, -0.66622, -4.55259, 0.559247, -1.75015, -2.95306, \n",
    "                   -0.21628, 0.81569, 0.16921, 0.72352, -0.23506, -0.35261, \n",
    "                   0.42198, 0.14519, 0.27784, 0.271154, -0.14823, 478]]\n",
    "                   \n",
    "new_input_test = sc.transform(new_input_test)\n",
    "predictions_rfc = rfc.predict(new_input_test)\n",
    "print(\"The transaction's class is: \", predictions_rfc)\n",
    "\n",
    "if (predictions_rfc == 1):\n",
    "    print(\"Warning!!! The credit card transaction is fraudulent.\")\n",
    "else:\n",
    "    print(\"The credit card transaction is normal.\")"
   ]
  },
  {
   "cell_type": "markdown",
   "metadata": {},
   "source": [
    "#### Case 2:"
   ]
  },
  {
   "cell_type": "code",
   "execution_count": 13,
   "metadata": {},
   "outputs": [
    {
     "name": "stdout",
     "output_type": "stream",
     "text": [
      "The transaction's class is:  [1]\n",
      "Warning!!! The credit card transaction is fraudulent.\n"
     ]
    },
    {
     "name": "stderr",
     "output_type": "stream",
     "text": [
      "C:\\Users\\Miketobbz\\AppData\\Roaming\\Python\\Python310\\site-packages\\sklearn\\base.py:450: UserWarning: X does not have valid feature names, but StandardScaler was fitted with feature names\n",
      "  warnings.warn(\n"
     ]
    }
   ],
   "source": [
    "# Predict the 'class' of a transaction with the following attributes:\n",
    "new_input_test = [[406, -2.31223, 1.951992, -1.6098507, 3.9979056, -0.522188,\n",
    "                   -1.426545, -2.537387, 1.3916578, -2.770089, -2.7722721, 3.2020332, \n",
    "                   -2.8999073, -0.5952219, -4.289254, 0.3897241, -1.1407471, -2.8300557, \n",
    "                   -0.0168225, 0.4169557, 0.12691056, 0.517232, -0.03504936, -0.4652110, \n",
    "                   0.3201982, 0.0445192, 0.1778397, 0.2611450, -0.1432759, 0]]\n",
    "                   \n",
    "new_input_test = sc.transform(new_input_test)\n",
    "predictions_rfc = rfc.predict(new_input_test)\n",
    "print(\"The transaction's class is: \", predictions_rfc)\n",
    "\n",
    "if (predictions_rfc == 1):\n",
    "    print(\"Warning!!! The credit card transaction is fraudulent.\")\n",
    "else:\n",
    "    print(\"The credit card transaction is normal.\")"
   ]
  },
  {
   "cell_type": "markdown",
   "metadata": {},
   "source": [
    "#### Case 3:"
   ]
  },
  {
   "cell_type": "code",
   "execution_count": 15,
   "metadata": {},
   "outputs": [
    {
     "name": "stdout",
     "output_type": "stream",
     "text": [
      "The transaction's class is:  [1]\n",
      "Warning!!! The credit card transaction is fraudulent.\n"
     ]
    },
    {
     "name": "stderr",
     "output_type": "stream",
     "text": [
      "C:\\Users\\Miketobbz\\AppData\\Roaming\\Python\\Python310\\site-packages\\sklearn\\base.py:450: UserWarning: X does not have valid feature names, but StandardScaler was fitted with feature names\n",
      "  warnings.warn(\n"
     ]
    }
   ],
   "source": [
    "# Predict the 'class' of a transaction with the following attributes:\n",
    "new_input_test = [[7627, 1.231223, 3.0197404, -4.304596884, 4.73279513, 3.62420083,\n",
    "                   -1.357745663, 1.713444987, -0.496358487, -1.282857820, -2.44746925511, 2.101343865, \n",
    "                   -4.6096284, 1.46437762, -6.07933719, -0.339237372, 2.5818509, -6.73938438, \n",
    "                   -3.04249318, 2.72185312, 0.00906084, -0.37906831, -0.70418103, -0.65680475, \n",
    "                   -1.63265295, 1.488901448, 0.5667973, -0.01001622, 0.14679273, 378.66]]\n",
    "                   \n",
    "new_input_test = sc.transform(new_input_test)\n",
    "predictions_rfc = rfc.predict(new_input_test)\n",
    "print(\"The transaction's class is: \", predictions_rfc)\n",
    "\n",
    "if (predictions_rfc == 1):\n",
    "    print(\"Warning!!! The credit card transaction is fraudulent.\")\n",
    "else:\n",
    "    print(\"The credit card transaction is normal.\")"
   ]
  },
  {
   "cell_type": "markdown",
   "metadata": {},
   "source": [
    "## 2) Isolation Forest Classifier"
   ]
  },
  {
   "cell_type": "code",
   "execution_count": 9,
   "metadata": {},
   "outputs": [],
   "source": [
    "# Create the second model. It detects anomalies in the dataset.\n",
    "# It comprises of 200 trees.\n",
    "# Train it:\n",
    "outlier_fraction = len(fraud_t)/float(len(normal_t))\n",
    "\n",
    "ifc = IsolationForest(n_estimators = 200, max_samples = len(input_train), contamination = outlier_fraction, random_state = 1)\n",
    "ifc.fit(input_train)\n",
    "# Calculates the mean anomaly score:\n",
    "scores_pred = ifc.decision_function(input_train)\n",
    "predictions_ifc = ifc.predict(input_test)\n",
    "\n",
    "# Reshape the prediction values to 0 for 'normal' and 1 for 'fraud':\n",
    "predictions_ifc[predictions_ifc == 1] = 0\n",
    "predictions_ifc[predictions_ifc == -1] = 1"
   ]
  },
  {
   "cell_type": "code",
   "execution_count": 41,
   "metadata": {},
   "outputs": [
    {
     "name": "stdout",
     "output_type": "stream",
     "text": [
      "[0 0 0 0 0 0 0 0 0 0]\n"
     ]
    }
   ],
   "source": [
    "# Print the first 10 elements of the 'predictions' 1D array:\n",
    "print(predictions_ifc[0:10])"
   ]
  },
  {
   "cell_type": "code",
   "execution_count": 42,
   "metadata": {},
   "outputs": [
    {
     "name": "stdout",
     "output_type": "stream",
     "text": [
      "The model's performance summary is:\n",
      "\n",
      "              precision    recall  f1-score   support\n",
      "\n",
      "           0       1.00      1.00      1.00     22751\n",
      "           1       0.28      0.35      0.31        34\n",
      "\n",
      "    accuracy                           1.00     22785\n",
      "   macro avg       0.64      0.68      0.66     22785\n",
      "weighted avg       1.00      1.00      1.00     22785\n",
      "\n",
      "\n",
      "The total number of errors is:  53\n"
     ]
    }
   ],
   "source": [
    "# Evaluate the model's performance:\n",
    "n_errors = (predictions_ifc != output_test).sum()\n",
    "\n",
    "print(\"The model's performance summary is:\\n\")\n",
    "print(classification_report(output_test, predictions_ifc))\n",
    "print(\"\\nThe total number of errors is: \", n_errors)"
   ]
  },
  {
   "cell_type": "code",
   "execution_count": 43,
   "metadata": {},
   "outputs": [
    {
     "name": "stdout",
     "output_type": "stream",
     "text": [
      "The accuracy score is:  0.998\n"
     ]
    }
   ],
   "source": [
    "# Calculate the model's accuracy score:\n",
    "acc_score = accuracy_score(output_test, predictions_ifc)\n",
    "print(\"The accuracy score is: \", round(acc_score, 3))"
   ]
  },
  {
   "cell_type": "code",
   "execution_count": 52,
   "metadata": {},
   "outputs": [
    {
     "name": "stdout",
     "output_type": "stream",
     "text": [
      "The Matthews correlation coefficient is:  0.313\n"
     ]
    }
   ],
   "source": [
    "# Calculate the Matthews correlation coefficient:\n",
    "mcc = matthews_corrcoef(output_test, predictions_ifc)\n",
    "print(\"The Matthews correlation coefficient is: \", round(mcc, 3))"
   ]
  },
  {
   "cell_type": "code",
   "execution_count": 45,
   "metadata": {},
   "outputs": [
    {
     "name": "stdout",
     "output_type": "stream",
     "text": [
      "[[22720    31]\n",
      " [   22    12]]\n"
     ]
    }
   ],
   "source": [
    "# Calculate the confusion matrix:\n",
    "print(confusion_matrix(output_test, predictions_ifc))"
   ]
  },
  {
   "cell_type": "code",
   "execution_count": 46,
   "metadata": {},
   "outputs": [
    {
     "data": {
      "image/png": "[encoded data removed]",
      "text/plain": [
       "<Figure size 864x864 with 2 Axes>"
      ]
     },
     "metadata": {
      "needs_background": "light"
     },
     "output_type": "display_data"
    }
   ],
   "source": [
    "# Visualize the confusion matrix.\n",
    "# Use a seaborn heatmap:\n",
    "labels = [\"Normal\", \"Fraudulent\"]\n",
    "conf_matrix = confusion_matrix(output_test, predictions_ifc)\n",
    "pyplot.figure(figsize = (12, 12))\n",
    "\n",
    "sns.heatmap(conf_matrix, xticklabels = labels, yticklabels = labels, annot = True, fmt = \"d\")\n",
    "pyplot.title(\"Confusion Matrix\")\n",
    "pyplot.xlabel(\"Predicted Class\")\n",
    "pyplot.ylabel(\"Actual Class\")\n",
    "pyplot.show()"
   ]
  },
  {
   "cell_type": "markdown",
   "metadata": {},
   "source": [
    "### Credit Card Fraud Predictions"
   ]
  },
  {
   "cell_type": "markdown",
   "metadata": {},
   "source": [
    "#### Case 1:"
   ]
  },
  {
   "cell_type": "code",
   "execution_count": 18,
   "metadata": {},
   "outputs": [
    {
     "name": "stdout",
     "output_type": "stream",
     "text": [
      "The transaction's class is:  [1]\n",
      "Warning!!! The credit card transaction is fraudulent.\n"
     ]
    },
    {
     "name": "stderr",
     "output_type": "stream",
     "text": [
      "C:\\Users\\Miketobbz\\AppData\\Roaming\\Python\\Python310\\site-packages\\sklearn\\base.py:450: UserWarning: X does not have valid feature names, but StandardScaler was fitted with feature names\n",
      "  warnings.warn(\n"
     ]
    }
   ],
   "source": [
    "# Predict the 'class' of a transaction with the following attributes:\n",
    "new_input_test = [[428, -2.31445, 1.75223, -1.7199, 3.9928, -0.42319,\n",
    "                   -1.56255, -2.5281, 1.42771, -2.87112, -2.8127, 3.27033, \n",
    "                   -2.79812, -0.66622, -4.55259, 0.559247, -1.75015, -2.95306, \n",
    "                   -0.21628, 0.81569, 0.16921, 0.72352, -0.23506, -0.35261, \n",
    "                   0.42198, 0.14519, 0.27784, 0.271154, -0.14823, 478]]\n",
    "                   \n",
    "new_input_test = sc.transform(new_input_test)\n",
    "predictions_rfc = rfc.predict(new_input_test)\n",
    "print(\"The transaction's class is: \", predictions_rfc)\n",
    "\n",
    "if (predictions_rfc == 1):\n",
    "    print(\"Warning!!! The credit card transaction is fraudulent.\")\n",
    "else:\n",
    "    print(\"The credit card transaction is normal.\")"
   ]
  },
  {
   "cell_type": "markdown",
   "metadata": {},
   "source": [
    "#### Case 2:"
   ]
  },
  {
   "cell_type": "code",
   "execution_count": 16,
   "metadata": {},
   "outputs": [
    {
     "name": "stdout",
     "output_type": "stream",
     "text": [
      "The transaction's class is:  [1]\n",
      "Warning!!! The credit card transaction is fraudulent.\n"
     ]
    },
    {
     "name": "stderr",
     "output_type": "stream",
     "text": [
      "C:\\Users\\Miketobbz\\AppData\\Roaming\\Python\\Python310\\site-packages\\sklearn\\base.py:450: UserWarning: X does not have valid feature names, but StandardScaler was fitted with feature names\n",
      "  warnings.warn(\n"
     ]
    }
   ],
   "source": [
    "# Predict the 'class' of a transaction with the following attributes:\n",
    "new_input_test = [[406, -2.31223, 1.951992, -1.6098507, 3.9979056, -0.522188,\n",
    "                   -1.426545, -2.537387, 1.3916578, -2.770089, -2.7722721, 3.2020332, \n",
    "                   -2.8999073, -0.5952219, -4.289254, 0.3897241, -1.1407471, -2.8300557, \n",
    "                   -0.0168225, 0.4169557, 0.12691056, 0.517232, -0.03504936, -0.4652110, \n",
    "                   0.3201982, 0.0445192, 0.1778397, 0.2611450, -0.1432759, 0]]\n",
    "                   \n",
    "new_input_test = sc.transform(new_input_test)\n",
    "predictions_rfc = rfc.predict(new_input_test)\n",
    "print(\"The transaction's class is: \", predictions_rfc)\n",
    "\n",
    "if (predictions_rfc == 1):\n",
    "    print(\"Warning!!! The credit card transaction is fraudulent.\")\n",
    "else:\n",
    "    print(\"The credit card transaction is normal.\")"
   ]
  },
  {
   "cell_type": "markdown",
   "metadata": {},
   "source": [
    "#### Case 3:"
   ]
  },
  {
   "cell_type": "code",
   "execution_count": 17,
   "metadata": {},
   "outputs": [
    {
     "name": "stdout",
     "output_type": "stream",
     "text": [
      "The transaction's class is:  [1]\n",
      "Warning!!! The credit card transaction is fraudulent.\n"
     ]
    },
    {
     "name": "stderr",
     "output_type": "stream",
     "text": [
      "C:\\Users\\Miketobbz\\AppData\\Roaming\\Python\\Python310\\site-packages\\sklearn\\base.py:450: UserWarning: X does not have valid feature names, but StandardScaler was fitted with feature names\n",
      "  warnings.warn(\n"
     ]
    }
   ],
   "source": [
    "# Predict the 'class' of a transaction with the following attributes:\n",
    "new_input_test = [[7627, 1.231223, 3.0197404, -4.304596884, 4.73279513, 3.62420083,\n",
    "                   -1.357745663, 1.713444987, -0.496358487, -1.282857820, -2.44746925511, 2.101343865, \n",
    "                   -4.6096284, 1.46437762, -6.07933719, -0.339237372, 2.5818509, -6.73938438, \n",
    "                   -3.04249318, 2.72185312, 0.00906084, -0.37906831, -0.70418103, -0.65680475, \n",
    "                   -1.63265295, 1.488901448, 0.5667973, -0.01001622, 0.14679273, 378.66]]\n",
    "                   \n",
    "new_input_test = sc.transform(new_input_test)\n",
    "predictions_rfc = rfc.predict(new_input_test)\n",
    "print(\"The transaction's class is: \", predictions_rfc)\n",
    "\n",
    "if (predictions_rfc == 1):\n",
    "    print(\"Warning!!! The credit card transaction is fraudulent.\")\n",
    "else:\n",
    "    print(\"The credit card transaction is normal.\")"
   ]
  },
  {
   "cell_type": "markdown",
   "metadata": {},
   "source": [
    "## 3) Multi-layer Perceptron Classifier(Neural Network)"
   ]
  },
  {
   "cell_type": "code",
   "execution_count": 10,
   "metadata": {},
   "outputs": [
    {
     "name": "stdout",
     "output_type": "stream",
     "text": [
      "Iteration 1, loss = 0.31906388\n",
      "Iteration 2, loss = 0.05206952\n",
      "Iteration 3, loss = 0.02168681\n",
      "Iteration 4, loss = 0.01271103\n",
      "Iteration 5, loss = 0.00887408\n",
      "Iteration 6, loss = 0.00694980\n",
      "Iteration 7, loss = 0.00587023\n",
      "Iteration 8, loss = 0.00520531\n",
      "Iteration 9, loss = 0.00476715\n",
      "Iteration 10, loss = 0.00447167\n",
      "Iteration 11, loss = 0.00426864\n",
      "Iteration 12, loss = 0.00410940\n",
      "Iteration 13, loss = 0.00399314\n",
      "Iteration 14, loss = 0.00390049\n",
      "Iteration 15, loss = 0.00382171\n",
      "Iteration 16, loss = 0.00374382\n",
      "Iteration 17, loss = 0.00365966\n",
      "Iteration 18, loss = 0.00359691\n",
      "Iteration 19, loss = 0.00352013\n",
      "Iteration 20, loss = 0.00344898\n",
      "Iteration 21, loss = 0.00337534\n",
      "Iteration 22, loss = 0.00330260\n",
      "Iteration 23, loss = 0.00323158\n",
      "Iteration 24, loss = 0.00316901\n",
      "Training loss did not improve more than tol=0.000100 for 10 consecutive epochs. Stopping.\n"
     ]
    }
   ],
   "source": [
    "# Create the third model-a neural network.\n",
    "# The neural network is trained using standardized data.\n",
    "\n",
    "mlpc = MLPClassifier(hidden_layer_sizes = (16,), activation = \"logistic\", solver = \"adam\", verbose = True)\n",
    "mlpc.fit(input_train, output_train)\n",
    "predictions_mlpc = mlpc.predict(input_test)"
   ]
  },
  {
   "cell_type": "code",
   "execution_count": 48,
   "metadata": {},
   "outputs": [
    {
     "name": "stdout",
     "output_type": "stream",
     "text": [
      "[0 0 0 0 0 0 0 0 0 0]\n"
     ]
    }
   ],
   "source": [
    "# Show the first 10 elements of the 'predictions' 1D array:\n",
    "print(predictions_mlpc[0:10])"
   ]
  },
  {
   "cell_type": "code",
   "execution_count": 49,
   "metadata": {},
   "outputs": [
    {
     "name": "stdout",
     "output_type": "stream",
     "text": [
      "The performance summary is:\n",
      "\n",
      "              precision    recall  f1-score   support\n",
      "\n",
      "           0       1.00      1.00      1.00     22751\n",
      "           1       0.89      0.74      0.81        34\n",
      "\n",
      "    accuracy                           1.00     22785\n",
      "   macro avg       0.95      0.87      0.90     22785\n",
      "weighted avg       1.00      1.00      1.00     22785\n",
      "\n",
      "\n",
      "The total number of errors is:  12\n"
     ]
    }
   ],
   "source": [
    "# Evaluate the neural network's performance:\n",
    "n_errors = (predictions_mlpc != output_test).sum()\n",
    "\n",
    "print(\"The performance summary is:\\n\")\n",
    "print(classification_report(output_test, predictions_mlpc))\n",
    "print(\"\\nThe total number of errors is: \", n_errors)"
   ]
  },
  {
   "cell_type": "code",
   "execution_count": 50,
   "metadata": {},
   "outputs": [
    {
     "name": "stdout",
     "output_type": "stream",
     "text": [
      "The accuracy score is:  0.999\n"
     ]
    }
   ],
   "source": [
    "# Calculate the neural network's accuracy score:\n",
    "acc_score = accuracy_score(output_test, predictions_mlpc)\n",
    "print(\"The accuracy score is: \", round(acc_score, 3))"
   ]
  },
  {
   "cell_type": "code",
   "execution_count": 51,
   "metadata": {},
   "outputs": [
    {
     "name": "stdout",
     "output_type": "stream",
     "text": [
      "The Matthews correlation coefficient is:  0.81\n"
     ]
    }
   ],
   "source": [
    "# Calculate the Matthews correlation coefficient:\n",
    "mcc = matthews_corrcoef(output_test, predictions_mlpc)\n",
    "print(\"The Matthews correlation coefficient is: \", round(mcc, 3))"
   ]
  },
  {
   "cell_type": "code",
   "execution_count": 53,
   "metadata": {},
   "outputs": [
    {
     "name": "stdout",
     "output_type": "stream",
     "text": [
      "[[22748     3]\n",
      " [    9    25]]\n"
     ]
    }
   ],
   "source": [
    "# Calculate the confusion matrix:\n",
    "print(confusion_matrix(output_test, predictions_mlpc))"
   ]
  },
  {
   "cell_type": "code",
   "execution_count": 54,
   "metadata": {},
   "outputs": [
    {
     "data": {
      "image/png": "[encoded data removed]",
      "text/plain": [
       "<Figure size 864x864 with 2 Axes>"
      ]
     },
     "metadata": {
      "needs_background": "light"
     },
     "output_type": "display_data"
    }
   ],
   "source": [
    "# Visualize the confusion matrix.\n",
    "# Use a seaborn heatmap:\n",
    "labels = [\"Normal\", \"Fraudulent\"]\n",
    "conf_matrix = confusion_matrix(output_test, predictions_mlpc)\n",
    "pyplot.figure(figsize = (12, 12))\n",
    "\n",
    "sns.heatmap(conf_matrix, xticklabels = labels, yticklabels = labels, annot = True, fmt = \"d\")\n",
    "pyplot.title(\"Confusion Matrix\")\n",
    "pyplot.xlabel(\"Predicted Class\")\n",
    "pyplot.ylabel(\"Actual Class\")\n",
    "pyplot.show()"
   ]
  },
  {
   "cell_type": "markdown",
   "metadata": {},
   "source": [
    "### Credit Card Fraud Predictions"
   ]
  },
  {
   "cell_type": "markdown",
   "metadata": {},
   "source": [
    "#### Case 1:"
   ]
  },
  {
   "cell_type": "code",
   "execution_count": 19,
   "metadata": {},
   "outputs": [
    {
     "name": "stdout",
     "output_type": "stream",
     "text": [
      "The transaction's class is:  [1]\n",
      "Warning!!! The credit card transaction is fraudulent.\n"
     ]
    },
    {
     "name": "stderr",
     "output_type": "stream",
     "text": [
      "C:\\Users\\Miketobbz\\AppData\\Roaming\\Python\\Python310\\site-packages\\sklearn\\base.py:450: UserWarning: X does not have valid feature names, but StandardScaler was fitted with feature names\n",
      "  warnings.warn(\n"
     ]
    }
   ],
   "source": [
    "# Predict the 'class' of a transaction with the following attributes:\n",
    "new_input_test = [[428, -2.31445, 1.75223, -1.7199, 3.9928, -0.42319,\n",
    "                   -1.56255, -2.5281, 1.42771, -2.87112, -2.8127, 3.27033, \n",
    "                   -2.79812, -0.66622, -4.55259, 0.559247, -1.75015, -2.95306, \n",
    "                   -0.21628, 0.81569, 0.16921, 0.72352, -0.23506, -0.35261, \n",
    "                   0.42198, 0.14519, 0.27784, 0.271154, -0.14823, 478]]\n",
    "                   \n",
    "new_input_test = sc.transform(new_input_test)\n",
    "predictions_rfc = rfc.predict(new_input_test)\n",
    "print(\"The transaction's class is: \", predictions_rfc)\n",
    "\n",
    "if (predictions_rfc == 1):\n",
    "    print(\"Warning!!! The credit card transaction is fraudulent.\")\n",
    "else:\n",
    "    print(\"The credit card transaction is normal.\")"
   ]
  },
  {
   "cell_type": "markdown",
   "metadata": {},
   "source": [
    "#### Case 2:"
   ]
  },
  {
   "cell_type": "code",
   "execution_count": 20,
   "metadata": {},
   "outputs": [
    {
     "name": "stdout",
     "output_type": "stream",
     "text": [
      "The transaction's class is:  [1]\n",
      "Warning!!! The credit card transaction is fraudulent.\n"
     ]
    },
    {
     "name": "stderr",
     "output_type": "stream",
     "text": [
      "C:\\Users\\Miketobbz\\AppData\\Roaming\\Python\\Python310\\site-packages\\sklearn\\base.py:450: UserWarning: X does not have valid feature names, but StandardScaler was fitted with feature names\n",
      "  warnings.warn(\n"
     ]
    }
   ],
   "source": [
    "# Predict the 'class' of a transaction with the following attributes:\n",
    "new_input_test = [[406, -2.31223, 1.951992, -1.6098507, 3.9979056, -0.522188,\n",
    "                   -1.426545, -2.537387, 1.3916578, -2.770089, -2.7722721, 3.2020332, \n",
    "                   -2.8999073, -0.5952219, -4.289254, 0.3897241, -1.1407471, -2.8300557, \n",
    "                   -0.0168225, 0.4169557, 0.12691056, 0.517232, -0.03504936, -0.4652110, \n",
    "                   0.3201982, 0.0445192, 0.1778397, 0.2611450, -0.1432759, 0]]\n",
    "                   \n",
    "new_input_test = sc.transform(new_input_test)\n",
    "predictions_rfc = rfc.predict(new_input_test)\n",
    "print(\"The transaction's class is: \", predictions_rfc)\n",
    "\n",
    "if (predictions_rfc == 1):\n",
    "    print(\"Warning!!! The credit card transaction is fraudulent.\")\n",
    "else:\n",
    "    print(\"The credit card transaction is normal.\")"
   ]
  },
  {
   "cell_type": "markdown",
   "metadata": {},
   "source": [
    "#### Case 3:"
   ]
  },
  {
   "cell_type": "code",
   "execution_count": 21,
   "metadata": {},
   "outputs": [
    {
     "name": "stdout",
     "output_type": "stream",
     "text": [
      "The transaction's class is:  [1]\n",
      "Warning!!! The credit card transaction is fraudulent.\n"
     ]
    },
    {
     "name": "stderr",
     "output_type": "stream",
     "text": [
      "C:\\Users\\Miketobbz\\AppData\\Roaming\\Python\\Python310\\site-packages\\sklearn\\base.py:450: UserWarning: X does not have valid feature names, but StandardScaler was fitted with feature names\n",
      "  warnings.warn(\n"
     ]
    }
   ],
   "source": [
    "# Predict the 'class' of a transaction with the following attributes:\n",
    "new_input_test = [[7627, 1.231223, 3.0197404, -4.304596884, 4.73279513, 3.62420083,\n",
    "                   -1.357745663, 1.713444987, -0.496358487, -1.282857820, -2.44746925511, 2.101343865, \n",
    "                   -4.6096284, 1.46437762, -6.07933719, -0.339237372, 2.5818509, -6.73938438, \n",
    "                   -3.04249318, 2.72185312, 0.00906084, -0.37906831, -0.70418103, -0.65680475, \n",
    "                   -1.63265295, 1.488901448, 0.5667973, -0.01001622, 0.14679273, 378.66]]\n",
    "                   \n",
    "new_input_test = sc.transform(new_input_test)\n",
    "predictions_rfc = rfc.predict(new_input_test)\n",
    "print(\"The transaction's class is: \", predictions_rfc)\n",
    "\n",
    "if (predictions_rfc == 1):\n",
    "    print(\"Warning!!! The credit card transaction is fraudulent.\")\n",
    "else:\n",
    "    print(\"The credit card transaction is normal.\")"
   ]
  }
 ],
 "metadata": {
  "kernelspec": {
   "display_name": "Python 3.10.0 64-bit",
   "language": "python",
   "name": "python3"
  },
  "language_info": {
   "codemirror_mode": {
    "name": "ipython",
    "version": 3
   },
   "file_extension": ".py",
   "mimetype": "text/x-python",
   "name": "python",
   "nbconvert_exporter": "python",
   "pygments_lexer": "ipython3",
   "version": "3.10.0"
  },
  "orig_nbformat": 4,
  "vscode": {
   "interpreter": {
    "hash": "26de051ba29f2982a8de78e945f0abaf191376122a1563185a90213a26c5da77"
   }
  }
 },
 "nbformat": 4,
 "nbformat_minor": 2
}
